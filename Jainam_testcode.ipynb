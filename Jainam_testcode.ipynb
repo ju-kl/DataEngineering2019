{
 "cells": [
  {
   "cell_type": "markdown",
   "metadata": {},
   "source": [
    "# Notebook for test code\n"
   ]
  },
  {
   "cell_type": "code",
   "execution_count": 4,
   "metadata": {},
   "outputs": [
    {
     "ename": "ModuleNotFoundError",
     "evalue": "No module named 'sodapy'",
     "output_type": "error",
     "traceback": [
      "\u001b[1;31m---------------------------------------------------------------------------\u001b[0m",
      "\u001b[1;31mModuleNotFoundError\u001b[0m                       Traceback (most recent call last)",
      "\u001b[1;32m<ipython-input-4-34da52a7baf9>\u001b[0m in \u001b[0;36m<module>\u001b[1;34m\u001b[0m\n\u001b[1;32m----> 1\u001b[1;33m \u001b[1;32mfrom\u001b[0m \u001b[0msodapy\u001b[0m \u001b[1;32mimport\u001b[0m \u001b[0mSocrata\u001b[0m \u001b[1;31m# for API calls\u001b[0m\u001b[1;33m\u001b[0m\u001b[1;33m\u001b[0m\u001b[0m\n\u001b[0m\u001b[0;32m      2\u001b[0m \u001b[1;32mimport\u001b[0m \u001b[0msqlalchemy\u001b[0m \u001b[1;32mas\u001b[0m \u001b[0mdb\u001b[0m \u001b[1;31m# for SQL\u001b[0m\u001b[1;33m\u001b[0m\u001b[1;33m\u001b[0m\u001b[0m\n\u001b[0;32m      3\u001b[0m \u001b[1;32mimport\u001b[0m \u001b[0mpymysql\u001b[0m \u001b[1;31m# for SQL\u001b[0m\u001b[1;33m\u001b[0m\u001b[1;33m\u001b[0m\u001b[0m\n\u001b[0;32m      4\u001b[0m \u001b[1;32mimport\u001b[0m \u001b[0mpandas\u001b[0m \u001b[1;32mas\u001b[0m \u001b[0mpd\u001b[0m \u001b[1;31m# for data cleaning\u001b[0m\u001b[1;33m\u001b[0m\u001b[1;33m\u001b[0m\u001b[0m\n\u001b[0;32m      5\u001b[0m \u001b[1;32mimport\u001b[0m \u001b[0mdbfread\u001b[0m \u001b[1;31m# for dbf transformation\u001b[0m\u001b[1;33m\u001b[0m\u001b[1;33m\u001b[0m\u001b[0m\n",
      "\u001b[1;31mModuleNotFoundError\u001b[0m: No module named 'sodapy'"
     ]
    }
   ],
   "source": [
    "from sodapy import Socrata # for API calls\n",
    "import sqlalchemy as db # for SQL\n",
    "import pymysql # for SQL\n",
    "import pandas as pd # for data cleaning\n",
    "import dbfread # for dbf transformation\n",
    "from simpledbf import Dbf5 # for dbf transformation"
   ]
  },
  {
   "cell_type": "code",
   "execution_count": 2,
   "metadata": {},
   "outputs": [
    {
     "data": {
      "text/plain": [
       "\"date <= '2011-11-12T00:00:00.000' AND location_description = 'CTA PLATFORM' OR date <= '2011-11-12T00:00:00.000' AND location_description = 'CTA BUS' OR date <= '2011-11-12T00:00:00.000' AND location_description = 'CTA TRAIN' OR date <= '2011-11-12T00:00:00.000' AND location_description = 'CTA BUS STOP' OR date <= '2011-11-12T00:00:00.000' AND location_description = 'CTA GARAGE / OTHER PROPERTY'\""
      ]
     },
     "execution_count": 2,
     "metadata": {},
     "output_type": "execute_result"
    }
   ],
   "source": [
    "# Download crime data\n",
    "# Select date to filter crime dataset for\n",
    "date = '2011-11-12T00:00:00.000'\n",
    "\n",
    "# prepare where statement of the API call\n",
    "statement = \"date <= '\" + date + \"' AND location_description = 'CTA PLATFORM' OR date <= '\" + date + \"' AND location_description = 'CTA BUS' OR date <= '\" + date + \"' AND location_description = 'CTA TRAIN' OR date <= '\" + date + \"' AND location_description = 'CTA BUS STOP' OR date <= '\" + date + \"' AND location_description = 'CTA GARAGE / OTHER PROPERTY'\"\n",
    "statement"
   ]
  },
  {
   "cell_type": "code",
   "execution_count": 3,
   "metadata": {},
   "outputs": [
    {
     "ename": "NameError",
     "evalue": "name 'Socrata' is not defined",
     "output_type": "error",
     "traceback": [
      "\u001b[1;31m---------------------------------------------------------------------------\u001b[0m",
      "\u001b[1;31mNameError\u001b[0m                                 Traceback (most recent call last)",
      "\u001b[1;32m<ipython-input-3-797f2c8498f1>\u001b[0m in \u001b[0;36m<module>\u001b[1;34m\u001b[0m\n\u001b[0;32m      2\u001b[0m \u001b[1;33m\u001b[0m\u001b[0m\n\u001b[0;32m      3\u001b[0m \u001b[1;31m# Authenticate client (needed for non-public datasets):\u001b[0m\u001b[1;33m\u001b[0m\u001b[1;33m\u001b[0m\u001b[1;33m\u001b[0m\u001b[0m\n\u001b[1;32m----> 4\u001b[1;33m client = Socrata(\"data.cityofchicago.org\",\n\u001b[0m\u001b[0;32m      5\u001b[0m                   \"QtMhXqaTTglPlVS3AC6PEQQxD\", username = \"juli.kleindiek@gmail.com\", password = \"DEPA_2019\")\n\u001b[0;32m      6\u001b[0m \u001b[1;33m\u001b[0m\u001b[0m\n",
      "\u001b[1;31mNameError\u001b[0m: name 'Socrata' is not defined"
     ]
    }
   ],
   "source": [
    "# Pull 2011 data using API\n",
    "\n",
    "# Authenticate client (needed for non-public datasets):\n",
    "client = Socrata(\"data.cityofchicago.org\",\n",
    "                  \"QtMhXqaTTglPlVS3AC6PEQQxD\", username = \"juli.kleindiek@gmail.com\", password = \"DEPA_2019\")\n",
    "\n",
    "# Limit to 1000 rows for test purposes\n",
    "results = client.get(\"ijzp-q8t2\", \n",
    "                     where = statement,\n",
    "                     limit = 1000)"
   ]
  },
  {
   "cell_type": "code",
   "execution_count": null,
   "metadata": {},
   "outputs": [],
   "source": []
  },
  {
   "cell_type": "code",
   "execution_count": null,
   "metadata": {},
   "outputs": [],
   "source": []
  },
  {
   "cell_type": "code",
   "execution_count": null,
   "metadata": {},
   "outputs": [],
   "source": []
  }
 ],
 "metadata": {
  "kernelspec": {
   "display_name": "Python 3",
   "language": "python",
   "name": "python3"
  },
  "language_info": {
   "codemirror_mode": {
    "name": "ipython",
    "version": 3
   },
   "file_extension": ".py",
   "mimetype": "text/x-python",
   "name": "python",
   "nbconvert_exporter": "python",
   "pygments_lexer": "ipython3",
   "version": "3.7.3"
  }
 },
 "nbformat": 4,
 "nbformat_minor": 2
}
