{
 "cells": [
  {
   "cell_type": "markdown",
   "metadata": {},
   "source": [
    "# weather_clean"
   ]
  },
  {
   "cell_type": "code",
   "execution_count": 28,
   "metadata": {},
   "outputs": [],
   "source": [
    "import pandas as pd\n",
    "import numpy as np"
   ]
  },
  {
   "cell_type": "code",
   "execution_count": 10,
   "metadata": {},
   "outputs": [],
   "source": [
    "w12 = pd.read_csv('weather_01_02.csv')\n",
    "w34 = pd.read_csv('weather_03_04.csv')\n",
    "w56 = pd.read_csv('weather_05_06.csv')\n",
    "w78 = pd.read_csv('weather_07_08.csv')\n",
    "w910 = pd.read_csv('weather_09_10.csv')\n",
    "w1112 = pd.read_csv('weather_11_12.csv')\n",
    "w1314 = pd.read_csv('weather_13_14.csv')\n",
    "w1516 = pd.read_csv('weather_15_16.csv')\n",
    "w1718 = pd.read_csv('weather_17_18.csv')\n",
    "w19 = pd.read_csv('weather_19.csv')"
   ]
  },
  {
   "cell_type": "code",
   "execution_count": 15,
   "metadata": {},
   "outputs": [],
   "source": [
    "weather = pd.concat([w12, w34, w56, w78, w910, w1112, w1314, w1516, w1718, w19], sort = True)"
   ]
  },
  {
   "cell_type": "code",
   "execution_count": 24,
   "metadata": {},
   "outputs": [
    {
     "name": "stdout",
     "output_type": "stream",
     "text": [
      "<class 'pandas.core.frame.DataFrame'>\n",
      "Int64Index: 513589 entries, 0 to 34068\n",
      "Data columns (total 11 columns):\n",
      "Date         513589 non-null object\n",
      "Elevation    513589 non-null float64\n",
      "Latitude     513589 non-null float64\n",
      "Longitude    513589 non-null float64\n",
      "Prcp         498453 non-null float64\n",
      "Station      513589 non-null object\n",
      "Tavg         6775 non-null float64\n",
      "Tmax         64130 non-null float64\n",
      "Tmin         64136 non-null float64\n",
      "Tobs         44763 non-null float64\n",
      "Tsun         3130 non-null float64\n",
      "dtypes: float64(9), object(2)\n",
      "memory usage: 47.0+ MB\n"
     ]
    }
   ],
   "source": [
    "'''\n",
    "things to note:\n",
    "\n",
    "- there are 10 - 13 reads per day from different stations\n",
    "- quite a few nulls\n",
    "- 3 temperature reads: Min, Max, Time of Observation\n",
    "\n",
    "'''\n",
    "\n",
    "weather.info()"
   ]
  },
  {
   "cell_type": "code",
   "execution_count": 21,
   "metadata": {},
   "outputs": [
    {
     "data": {
      "text/plain": [
       "Index(['DATE', 'ELEVATION', 'LATITUDE', 'LONGITUDE', 'PRCP', 'STATION', 'TAVG',\n",
       "       'TMAX', 'TMIN', 'TOBS', 'TSUN'],\n",
       "      dtype='object')"
      ]
     },
     "execution_count": 21,
     "metadata": {},
     "output_type": "execute_result"
    }
   ],
   "source": [
    "weather.columns"
   ]
  },
  {
   "cell_type": "code",
   "execution_count": 32,
   "metadata": {},
   "outputs": [],
   "source": [
    "# format date for consistency\n",
    "\n",
    "weather['Date']=pd.to_datetime(weather['Date']).dt.strftime('%m/%d/%Y')"
   ]
  },
  {
   "cell_type": "code",
   "execution_count": 33,
   "metadata": {},
   "outputs": [
    {
     "name": "stdout",
     "output_type": "stream",
     "text": [
      "<class 'pandas.core.frame.DataFrame'>\n",
      "Int64Index: 513589 entries, 0 to 34068\n",
      "Data columns (total 11 columns):\n",
      "Date         513589 non-null object\n",
      "Elevation    513589 non-null float64\n",
      "Latitude     513589 non-null float64\n",
      "Longitude    513589 non-null float64\n",
      "Prcp         498453 non-null float64\n",
      "Station      513589 non-null object\n",
      "Tavg         6775 non-null float64\n",
      "Tmax         64130 non-null float64\n",
      "Tmin         64136 non-null float64\n",
      "Tobs         44763 non-null float64\n",
      "Tsun         3130 non-null float64\n",
      "dtypes: float64(9), object(2)\n",
      "memory usage: 47.0+ MB\n"
     ]
    }
   ],
   "source": [
    "weather.info()"
   ]
  },
  {
   "cell_type": "code",
   "execution_count": 22,
   "metadata": {},
   "outputs": [],
   "source": [
    "# format columns for consistency\n",
    "\n",
    "weather.columns = weather.columns.str.capitalize()"
   ]
  },
  {
   "cell_type": "code",
   "execution_count": 23,
   "metadata": {},
   "outputs": [
    {
     "data": {
      "text/plain": [
       "Index(['Date', 'Elevation', 'Latitude', 'Longitude', 'Prcp', 'Station', 'Tavg',\n",
       "       'Tmax', 'Tmin', 'Tobs', 'Tsun'],\n",
       "      dtype='object')"
      ]
     },
     "execution_count": 23,
     "metadata": {},
     "output_type": "execute_result"
    }
   ],
   "source": [
    "weather.columns"
   ]
  },
  {
   "cell_type": "code",
   "execution_count": 34,
   "metadata": {},
   "outputs": [
    {
     "data": {
      "text/html": [
       "<div>\n",
       "<style scoped>\n",
       "    .dataframe tbody tr th:only-of-type {\n",
       "        vertical-align: middle;\n",
       "    }\n",
       "\n",
       "    .dataframe tbody tr th {\n",
       "        vertical-align: top;\n",
       "    }\n",
       "\n",
       "    .dataframe thead th {\n",
       "        text-align: right;\n",
       "    }\n",
       "</style>\n",
       "<table border=\"1\" class=\"dataframe\">\n",
       "  <thead>\n",
       "    <tr style=\"text-align: right;\">\n",
       "      <th></th>\n",
       "      <th>Date</th>\n",
       "      <th>Elevation</th>\n",
       "      <th>Latitude</th>\n",
       "      <th>Longitude</th>\n",
       "      <th>Prcp</th>\n",
       "      <th>Station</th>\n",
       "      <th>Tavg</th>\n",
       "      <th>Tmax</th>\n",
       "      <th>Tmin</th>\n",
       "      <th>Tobs</th>\n",
       "      <th>Tsun</th>\n",
       "    </tr>\n",
       "  </thead>\n",
       "  <tbody>\n",
       "    <tr>\n",
       "      <td>0</td>\n",
       "      <td>01/01/2001</td>\n",
       "      <td>189.0</td>\n",
       "      <td>41.7372</td>\n",
       "      <td>-87.7775</td>\n",
       "      <td>0.0</td>\n",
       "      <td>USC00111577</td>\n",
       "      <td>NaN</td>\n",
       "      <td>26.0</td>\n",
       "      <td>13.0</td>\n",
       "      <td>13.0</td>\n",
       "      <td>NaN</td>\n",
       "    </tr>\n",
       "    <tr>\n",
       "      <td>1</td>\n",
       "      <td>01/02/2001</td>\n",
       "      <td>189.0</td>\n",
       "      <td>41.7372</td>\n",
       "      <td>-87.7775</td>\n",
       "      <td>0.0</td>\n",
       "      <td>USC00111577</td>\n",
       "      <td>NaN</td>\n",
       "      <td>21.0</td>\n",
       "      <td>7.0</td>\n",
       "      <td>7.0</td>\n",
       "      <td>NaN</td>\n",
       "    </tr>\n",
       "    <tr>\n",
       "      <td>2</td>\n",
       "      <td>01/03/2001</td>\n",
       "      <td>189.0</td>\n",
       "      <td>41.7372</td>\n",
       "      <td>-87.7775</td>\n",
       "      <td>0.0</td>\n",
       "      <td>USC00111577</td>\n",
       "      <td>NaN</td>\n",
       "      <td>28.0</td>\n",
       "      <td>7.0</td>\n",
       "      <td>28.0</td>\n",
       "      <td>NaN</td>\n",
       "    </tr>\n",
       "    <tr>\n",
       "      <td>3</td>\n",
       "      <td>01/04/2001</td>\n",
       "      <td>189.0</td>\n",
       "      <td>41.7372</td>\n",
       "      <td>-87.7775</td>\n",
       "      <td>0.0</td>\n",
       "      <td>USC00111577</td>\n",
       "      <td>NaN</td>\n",
       "      <td>32.0</td>\n",
       "      <td>23.0</td>\n",
       "      <td>32.0</td>\n",
       "      <td>NaN</td>\n",
       "    </tr>\n",
       "    <tr>\n",
       "      <td>4</td>\n",
       "      <td>01/05/2001</td>\n",
       "      <td>189.0</td>\n",
       "      <td>41.7372</td>\n",
       "      <td>-87.7775</td>\n",
       "      <td>0.0</td>\n",
       "      <td>USC00111577</td>\n",
       "      <td>NaN</td>\n",
       "      <td>37.0</td>\n",
       "      <td>24.0</td>\n",
       "      <td>24.0</td>\n",
       "      <td>NaN</td>\n",
       "    </tr>\n",
       "  </tbody>\n",
       "</table>\n",
       "</div>"
      ],
      "text/plain": [
       "         Date  Elevation  Latitude  Longitude  Prcp      Station  Tavg  Tmax  \\\n",
       "0  01/01/2001      189.0   41.7372   -87.7775   0.0  USC00111577   NaN  26.0   \n",
       "1  01/02/2001      189.0   41.7372   -87.7775   0.0  USC00111577   NaN  21.0   \n",
       "2  01/03/2001      189.0   41.7372   -87.7775   0.0  USC00111577   NaN  28.0   \n",
       "3  01/04/2001      189.0   41.7372   -87.7775   0.0  USC00111577   NaN  32.0   \n",
       "4  01/05/2001      189.0   41.7372   -87.7775   0.0  USC00111577   NaN  37.0   \n",
       "\n",
       "   Tmin  Tobs  Tsun  \n",
       "0  13.0  13.0   NaN  \n",
       "1   7.0   7.0   NaN  \n",
       "2   7.0  28.0   NaN  \n",
       "3  23.0  32.0   NaN  \n",
       "4  24.0  24.0   NaN  "
      ]
     },
     "execution_count": 34,
     "metadata": {},
     "output_type": "execute_result"
    }
   ],
   "source": [
    "weather.head()"
   ]
  },
  {
   "cell_type": "code",
   "execution_count": null,
   "metadata": {},
   "outputs": [],
   "source": []
  }
 ],
 "metadata": {
  "kernelspec": {
   "display_name": "Python 3",
   "language": "python",
   "name": "python3"
  },
  "language_info": {
   "codemirror_mode": {
    "name": "ipython",
    "version": 3
   },
   "file_extension": ".py",
   "mimetype": "text/x-python",
   "name": "python",
   "nbconvert_exporter": "python",
   "pygments_lexer": "ipython3",
   "version": "3.7.4"
  }
 },
 "nbformat": 4,
 "nbformat_minor": 2
}
