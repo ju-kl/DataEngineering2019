{
 "cells": [
  {
   "cell_type": "markdown",
   "metadata": {},
   "source": [
    "# Safety on Public Transportation in Chicago\n",
    "\n",
    "## Script for Data Analysis\n",
    "\n",
    "### Authors: Jainam Mehta, Julian Kleindiek, Lola Johnston, Peter Eusebio\n",
    "### Date: 12/06/2019"
   ]
  },
  {
   "cell_type": "markdown",
   "metadata": {},
   "source": [
    "## Step 1: Import all relevant libraries used in this project"
   ]
  },
  {
   "cell_type": "code",
   "execution_count": null,
   "metadata": {},
   "outputs": [],
   "source": [
    "# install these libraries if not previously installed\n",
    "!pip install pandas\n",
    "!pip install numpy\n",
    "!pip install sodapy\n",
    "!pip install sqlalchemy\n",
    "!pip install pymysql\n",
    "!pip install dbfread\n",
    "!pip install simpledbf\n",
    "!pip install matplotlib"
   ]
  },
  {
   "cell_type": "code",
   "execution_count": null,
   "metadata": {},
   "outputs": [],
   "source": [
    "# import libraries\n",
    "from sodapy import Socrata # for API calls\n",
    "import sqlalchemy as db # for SQL\n",
    "import pymysql # for SQL\n",
    "import pandas as pd # for data cleaning\n",
    "import dbfread # for dbf transformation\n",
    "from simpledbf import Dbf5 # for dbf transformation\n",
    "import matplotlib.pyplot as plt #for plotting\n",
    "import numpy as np #for grid generation math\n",
    "import math #for grid generation math.  standard module, shouldn't need installation."
   ]
  },
  {
   "cell_type": "markdown",
   "metadata": {},
   "source": [
    "## Step 2: Connect to GCP"
   ]
  },
  {
   "cell_type": "code",
   "execution_count": 1,
   "metadata": {},
   "outputs": [],
   "source": [
    "# Connect to required tables on GCP"
   ]
  },
  {
   "cell_type": "markdown",
   "metadata": {},
   "source": [
    "## Step 3: Data Analysis"
   ]
  },
  {
   "cell_type": "code",
   "execution_count": null,
   "metadata": {},
   "outputs": [],
   "source": [
    "# Any script for data analysis, i.e. Risk Score development"
   ]
  }
 ],
 "metadata": {
  "kernelspec": {
   "display_name": "Python 3",
   "language": "python",
   "name": "python3"
  },
  "language_info": {
   "codemirror_mode": {
    "name": "ipython",
    "version": 3
   },
   "file_extension": ".py",
   "mimetype": "text/x-python",
   "name": "python",
   "nbconvert_exporter": "python",
   "pygments_lexer": "ipython3",
   "version": "3.7.3"
  }
 },
 "nbformat": 4,
 "nbformat_minor": 2
}
