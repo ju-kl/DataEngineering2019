{
 "cells": [
  {
   "cell_type": "markdown",
   "metadata": {},
   "source": [
    "# Notebook for test code\n"
   ]
  },
  {
   "cell_type": "code",
   "execution_count": 1,
   "metadata": {},
   "outputs": [
    {
     "data": {
      "text/plain": [
       "\"date <= '2019-11-12T00:00:00.000' AND location_description = 'CTA PLATFORM' OR date <= '2019-11-12T00:00:00.000' AND location_description = 'CTA BUS' OR date <= '2019-11-12T00:00:00.000' AND location_description = 'CTA TRAIN' OR date <= '2019-11-12T00:00:00.000' AND location_description = 'CTA BUS STOP' OR date <= '2019-11-12T00:00:00.000' AND location_description = 'CTA GARAGE / OTHER PROPERTY'\""
      ]
     },
     "execution_count": 1,
     "metadata": {},
     "output_type": "execute_result"
    }
   ],
   "source": [
    "# Download crime data\n",
    "# Select date to filter crime dataset for\n",
    "date = '2011-11-12T00:00:00.000'\n",
    "\n",
    "# prepare where statement of the API call\n",
    "statement = \"date <= '\" + date + \"' AND location_description = 'CTA PLATFORM' OR date <= '\" + date + \"' AND location_description = 'CTA BUS' OR date <= '\" + date + \"' AND location_description = 'CTA TRAIN' OR date <= '\" + date + \"' AND location_description = 'CTA BUS STOP' OR date <= '\" + date + \"' AND location_description = 'CTA GARAGE / OTHER PROPERTY'\"\n",
    "statement"
   ]
  },
  {
   "cell_type": "code",
   "execution_count": null,
   "metadata": {},
   "outputs": [],
   "source": []
  },
  {
   "cell_type": "code",
   "execution_count": null,
   "metadata": {},
   "outputs": [],
   "source": []
  },
  {
   "cell_type": "code",
   "execution_count": null,
   "metadata": {},
   "outputs": [],
   "source": []
  },
  {
   "cell_type": "code",
   "execution_count": null,
   "metadata": {},
   "outputs": [],
   "source": []
  }
 ],
 "metadata": {
  "kernelspec": {
   "display_name": "Python 3",
   "language": "python",
   "name": "python3"
  },
  "language_info": {
   "codemirror_mode": {
    "name": "ipython",
    "version": 3
   },
   "file_extension": ".py",
   "mimetype": "text/x-python",
   "name": "python",
   "nbconvert_exporter": "python",
   "pygments_lexer": "ipython3",
   "version": "3.7.3"
  }
 },
 "nbformat": 4,
 "nbformat_minor": 2
}
